{
 "cells": [
  {
   "cell_type": "code",
   "execution_count": 1,
   "id": "b414e879-de0b-423a-8e45-23a87d9c9306",
   "metadata": {},
   "outputs": [],
   "source": [
    "from tensorflow.keras.models import Sequential\n",
    "from tensorflow.keras.layers import Embedding\n",
    "import numpy as np"
   ]
  },
  {
   "cell_type": "code",
   "execution_count": 2,
   "id": "3b598171-25c2-48b1-bc59-f09f307e1b0a",
   "metadata": {},
   "outputs": [],
   "source": [
    "inputVal = 3"
   ]
  },
  {
   "cell_type": "code",
   "execution_count": 3,
   "id": "f6c82b5f-a270-4b5f-a237-b96910e70120",
   "metadata": {},
   "outputs": [],
   "source": [
    "model = Sequential()\n",
    "embedding_layer = Embedding(input_dim=5, output_dim=8, input_length=1)\n",
    "model.add(embedding_layer)\n",
    "model.compile('adam', 'mse')"
   ]
  },
  {
   "cell_type": "code",
   "execution_count": 4,
   "id": "efa7f618-4cad-46ec-be04-d588a1b408d6",
   "metadata": {},
   "outputs": [],
   "source": [
    "# weights were initialized as random so we set them for testing purposes\n",
    "weights = [np.array([[0, 0, 0, 0, 0, 0, 0, 0],\n",
    "                      [1, 1, 1, 1, 1, 1, 1, 1],\n",
    "                      [2, 2, 2, 2, 2, 2, 2, 2],\n",
    "                      [3, 3, 3, 3, 3, 3, 3, 3],\n",
    "                      [4, 4, 4, 4, 4, 4, 4, 4]])]\n",
    "model.set_weights(weights)"
   ]
  },
  {
   "cell_type": "code",
   "execution_count": 5,
   "id": "e0071ed6-4239-4f74-b431-77259930699d",
   "metadata": {},
   "outputs": [],
   "source": [
    "input_data = np.array([inputVal])\n",
    "pred = model.predict(input_data)\n",
    "predlist = pred.tolist()"
   ]
  },
  {
   "cell_type": "code",
   "execution_count": 6,
   "id": "f2a9bd3f-d221-4b00-aa86-7de7010207f4",
   "metadata": {},
   "outputs": [],
   "source": [
    "with open(\"PythonValidationOuput.txt\", \"w\") as f:\n",
    "    print(f\"The output of the python embedding layer with input {inputVal} is: \\n\", file=f)\n",
    "    for weight in predlist:\n",
    "        print(weight, file=f)"
   ]
  },
  {
   "cell_type": "code",
   "execution_count": null,
   "id": "049d8f62-81a1-47da-8656-d5ac6d6818cd",
   "metadata": {},
   "outputs": [],
   "source": []
  }
 ],
 "metadata": {
  "kernelspec": {
   "display_name": "Python 3",
   "language": "python",
   "name": "python3"
  },
  "language_info": {
   "codemirror_mode": {
    "name": "ipython",
    "version": 3
   },
   "file_extension": ".py",
   "mimetype": "text/x-python",
   "name": "python",
   "nbconvert_exporter": "python",
   "pygments_lexer": "ipython3",
   "version": "3.8.8"
  }
 },
 "nbformat": 4,
 "nbformat_minor": 5
}
