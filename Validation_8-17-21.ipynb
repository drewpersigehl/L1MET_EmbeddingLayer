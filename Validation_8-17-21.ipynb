{
 "cells": [
  {
   "cell_type": "code",
   "execution_count": 11,
   "id": "b414e879-de0b-423a-8e45-23a87d9c9306",
   "metadata": {},
   "outputs": [],
   "source": [
    "from tensorflow.keras.models import Sequential\n",
    "from tensorflow.keras.layers import Embedding\n",
    "import numpy as np"
   ]
  },
  {
   "cell_type": "code",
   "execution_count": 12,
   "id": "3b598171-25c2-48b1-bc59-f09f307e1b0a",
   "metadata": {},
   "outputs": [],
   "source": [
    "inputVal = 3  # which integer to retrieve the embedding of for testing purposes\n",
    "n_in = 5  # input dimension (i.e. vocab size)\n",
    "n_out = 8  # output dimension (i.e. embedding length)"
   ]
  },
  {
   "cell_type": "code",
   "execution_count": 13,
   "id": "f6c82b5f-a270-4b5f-a237-b96910e70120",
   "metadata": {},
   "outputs": [],
   "source": [
    "model = Sequential()\n",
    "embedding_layer = Embedding(input_dim=n_in, output_dim=n_out, input_length=1)\n",
    "model.add(embedding_layer)\n",
    "model.compile('adam', 'mse')"
   ]
  },
  {
   "cell_type": "code",
   "execution_count": 14,
   "id": "efa7f618-4cad-46ec-be04-d588a1b408d6",
   "metadata": {},
   "outputs": [],
   "source": [
    "# weights were initialized as random so we set them for testing purposes\n",
    "weights = [np.array([[0.69405118, 0.85314349, 0.44348042, 0.98682741, 0.07212228, 0.44294918,\n",
    "  0.50451567, 0.89471736,],\n",
    " [0.5172397,  0.73553228, 0.32378551, 0.08363885, 0.90106569, 0.34001472,\n",
    "  0.95520333, 0.09582401],\n",
    " [0.37217257, 0.33020137, 0.58489308, 0.59285919, 0.99916981, 0.28807132,\n",
    "  0.47801168, 0.94389581],\n",
    " [0.81038834, 0.34495702, 0.87173576, 0.36079162, 0.8432279,  0.74681984,\n",
    "  0.96527759, 0.83150219],\n",
    " [0.85617576, 0.117599, 0.63892696, 0.12100261, 0.83511491, 0.0326155,\n",
    "  0.18490572, 0.55708856]])]\n",
    "model.set_weights(weights)"
   ]
  },
  {
   "cell_type": "code",
   "execution_count": 15,
   "id": "e0071ed6-4239-4f74-b431-77259930699d",
   "metadata": {},
   "outputs": [],
   "source": [
    "input_data = np.array([inputVal])\n",
    "pred = model.predict(input_data)\n",
    "predlist = pred.tolist()"
   ]
  },
  {
   "cell_type": "code",
   "execution_count": 20,
   "id": "f2a9bd3f-d221-4b00-aa86-7de7010207f4",
   "metadata": {},
   "outputs": [],
   "source": [
    "with open(\"PythonValidationOutput.txt\", \"w\") as f:\n",
    "    print(f\"The output of the python embedding layer with input {inputVal} is: \\n\", file=f)\n",
    "    for row in predlist:\n",
    "        for row2 in row:\n",
    "            print([round(weight, 6) for weight in row2], file=f)"
   ]
  }
 ],
 "metadata": {
  "kernelspec": {
   "display_name": "Python 3",
   "language": "python",
   "name": "python3"
  },
  "language_info": {
   "codemirror_mode": {
    "name": "ipython",
    "version": 3
   },
   "file_extension": ".py",
   "mimetype": "text/x-python",
   "name": "python",
   "nbconvert_exporter": "python",
   "pygments_lexer": "ipython3",
   "version": "3.8.8"
  }
 },
 "nbformat": 4,
 "nbformat_minor": 5
}
